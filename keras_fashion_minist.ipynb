{
 "cells": [
  {
   "cell_type": "code",
   "execution_count": 68,
   "metadata": {},
   "outputs": [],
   "source": [
    "#Fashion-MNIST，是去年8月底德国研究机构Zalando Research发布的一个数据集，其中训练集包含60000个样本，\n",
    "#测试集包含10000个样本，分为10类。样本都来自日常穿着的衣裤鞋包，每一个都是28×28的灰度图。\n",
    "#T恤 0 裤子 1 套头衫 2 裙子 3 外套 4 凉鞋 5 衬衫 6 运动鞋 7 包 8 踝靴 9\n",
    "\n",
    "import tensorflow as tf\n",
    "import numpy as np\n",
    "from keras.layers import Dense,Dropout,Activation,Conv2D,MaxPooling2D,Flatten\n",
    "from keras.optimizers import SGD\n",
    "import matplotlib.pyplot as plt\n",
    "from keras.datasets import fashion_mnist\n",
    "from keras.layers.normalization import  BatchNormalization"
   ]
  },
  {
   "cell_type": "code",
   "execution_count": 69,
   "metadata": {},
   "outputs": [
    {
     "name": "stdout",
     "output_type": "stream",
     "text": [
      "x_train shape: (60000, 28, 28) y_train shape: (60000,)\n"
     ]
    }
   ],
   "source": [
    "(x_train,y_train),(x_test,y_test) = fashion_mnist.load_data()\n",
    "print(\"x_train shape:\", x_train.shape, \"y_train shape:\", y_train.shape)"
   ]
  },
  {
   "cell_type": "code",
   "execution_count": 70,
   "metadata": {},
   "outputs": [
    {
     "name": "stdout",
     "output_type": "stream",
     "text": [
      "[[ 0.  0.  0. ...,  0.  0.  1.]\n",
      " [ 1.  0.  0. ...,  0.  0.  0.]\n",
      " [ 1.  0.  0. ...,  0.  0.  0.]\n",
      " ..., \n",
      " [ 0.  0.  0. ...,  0.  0.  0.]\n",
      " [ 1.  0.  0. ...,  0.  0.  0.]\n",
      " [ 0.  0.  0. ...,  0.  0.  0.]]\n",
      "x_train shape: (60000, 28, 28, 1) y_train shape: (60000, 10)\n",
      "60000 train_set\n",
      "10000 test set\n"
     ]
    }
   ],
   "source": [
    "#将数据进行归一化,并分为训练集和测试集\n",
    "from keras.utils import to_categorical\n",
    "x_train = x_train.astype('float32')/255\n",
    "x_test = x_test.astype('float32')/255\n",
    "#(x_train,x_valid) = x_train[5000:],x_train[:5000]\n",
    "#(y_train,y_valid) = y_train[5000:],y_train[:5000]\n",
    "#reshape input data from (28,28) to (28,28,1)\n",
    "w,h = 28,28\n",
    "x_train = x_train.reshape(x_train.shape[0],w,h,1)\n",
    "#x_valid = x_valid.reshape(x_valid.shape[0],w,h,1)\n",
    "x_test = x_test.reshape(x_test.shape[0],w,h,1)\n",
    "\n",
    "#one-hot编码\n",
    "y_train = to_categorical(y_train,10)\n",
    "#y_valid = to_categorical(y_valid,10)\n",
    "y_test = to_categorical(y_test,10)\n",
    "\n",
    "#print(y_train)\n",
    "#print\n",
    "print(\"x_train shape:\", x_train.shape,\"y_train shape:\",y_train.shape)\n",
    "print(x_train.shape[0],'train_set')\n",
    "#print(x_valid.shape[0],'validation set')\n",
    "print(x_test.shape[0],'test set')"
   ]
  },
  {
   "cell_type": "code",
   "execution_count": 75,
   "metadata": {},
   "outputs": [
    {
     "name": "stdout",
     "output_type": "stream",
     "text": [
      "_________________________________________________________________\n",
      "Layer (type)                 Output Shape              Param #   \n",
      "=================================================================\n",
      "conv2d_30 (Conv2D)           (None, 28, 28, 64)        320       \n",
      "_________________________________________________________________\n",
      "max_pooling2d_29 (MaxPooling (None, 14, 14, 64)        0         \n",
      "_________________________________________________________________\n",
      "dropout_47 (Dropout)         (None, 14, 14, 64)        0         \n",
      "_________________________________________________________________\n",
      "conv2d_31 (Conv2D)           (None, 14, 14, 64)        16448     \n",
      "_________________________________________________________________\n",
      "max_pooling2d_30 (MaxPooling (None, 7, 7, 64)          0         \n",
      "_________________________________________________________________\n",
      "dropout_48 (Dropout)         (None, 7, 7, 64)          0         \n",
      "_________________________________________________________________\n",
      "flatten_14 (Flatten)         (None, 3136)              0         \n",
      "_________________________________________________________________\n",
      "dense_32 (Dense)             (None, 100)               313700    \n",
      "_________________________________________________________________\n",
      "batch_normalization_7 (Batch (None, 100)               400       \n",
      "_________________________________________________________________\n",
      "dropout_49 (Dropout)         (None, 100)               0         \n",
      "_________________________________________________________________\n",
      "dense_33 (Dense)             (None, 100)               10100     \n",
      "_________________________________________________________________\n",
      "batch_normalization_8 (Batch (None, 100)               400       \n",
      "_________________________________________________________________\n",
      "dropout_50 (Dropout)         (None, 100)               0         \n",
      "_________________________________________________________________\n",
      "dense_34 (Dense)             (None, 100)               10100     \n",
      "_________________________________________________________________\n",
      "batch_normalization_9 (Batch (None, 100)               400       \n",
      "_________________________________________________________________\n",
      "dropout_51 (Dropout)         (None, 100)               0         \n",
      "_________________________________________________________________\n",
      "dense_35 (Dense)             (None, 10)                1010      \n",
      "=================================================================\n",
      "Total params: 352,878\n",
      "Trainable params: 352,278\n",
      "Non-trainable params: 600\n",
      "_________________________________________________________________\n"
     ]
    }
   ],
   "source": [
    "#使用序贯模型\n",
    "from keras.models import Sequential\n",
    "model = Sequential()\n",
    "model.add(Conv2D(filters = 64,kernel_size = 2,padding = 'same',activation = 'relu',input_shape = (28,28,1)))\n",
    "model.add(MaxPooling2D(pool_size = 2))\n",
    "model.add(Dropout(0.2))\n",
    "\n",
    "model.add(Conv2D(filters = 64,kernel_size = 2,padding = 'same',activation = 'relu'))\n",
    "model.add(MaxPooling2D(pool_size = 2))\n",
    "model.add(Dropout(0.2))\n",
    "\n",
    "model.add(Flatten())#把多维的输入一维化\n",
    "model.add(Dense(100,activation = 'tanh'))\n",
    "model.add(BatchNormalization(momentum=0.9))\n",
    "model.add(Dropout(0.2))\n",
    "\n",
    "model.add(Dense(100,activation = 'tanh'))\n",
    "model.add(BatchNormalization(momentum=0.9))\n",
    "model.add(Dropout(0.2))\n",
    "\n",
    "model.add(Dense(100,activation = 'tanh'))\n",
    "model.add(BatchNormalization(momentum=0.9))\n",
    "model.add(Dropout(0.2))\n",
    "\n",
    "model.add(Dense(10,activation = 'softmax'))\n",
    "model.summary()\n"
   ]
  },
  {
   "cell_type": "code",
   "execution_count": 78,
   "metadata": {},
   "outputs": [
    {
     "name": "stdout",
     "output_type": "stream",
     "text": [
      "\n",
      "Epoch 00001: val_loss improved from inf to 0.37524, saving model to model.weights.best.hdf5\n",
      "\n",
      "Epoch 00002: val_loss improved from 0.37524 to 0.32432, saving model to model.weights.best.hdf5\n",
      "\n",
      "Epoch 00003: val_loss improved from 0.32432 to 0.30191, saving model to model.weights.best.hdf5\n",
      "\n",
      "Epoch 00004: val_loss improved from 0.30191 to 0.27682, saving model to model.weights.best.hdf5\n",
      "\n",
      "Epoch 00005: val_loss improved from 0.27682 to 0.27265, saving model to model.weights.best.hdf5\n",
      "\n",
      "Epoch 00006: val_loss improved from 0.27265 to 0.25467, saving model to model.weights.best.hdf5\n",
      "\n",
      "Epoch 00007: val_loss did not improve\n",
      "\n",
      "Epoch 00008: val_loss did not improve\n",
      "\n",
      "Epoch 00009: val_loss improved from 0.25467 to 0.24323, saving model to model.weights.best.hdf5\n",
      "\n",
      "Epoch 00010: val_loss improved from 0.24323 to 0.23796, saving model to model.weights.best.hdf5\n"
     ]
    },
    {
     "data": {
      "text/plain": [
       "<keras.callbacks.History at 0x1bea039c390>"
      ]
     },
     "execution_count": 78,
     "metadata": {},
     "output_type": "execute_result"
    }
   ],
   "source": [
    "#编译模型\n",
    "from keras.callbacks import ModelCheckpoint\n",
    "checkpointer = ModelCheckpoint(filepath='model.weights.best.hdf5', verbose = 1, save_best_only=True)\n",
    "model.compile(loss = 'categorical_crossentropy',optimizer = 'adam',metrics = ['accuracy'])\n",
    "#训练模型\n",
    "model.fit(x_train,y_train,batch_size = 128,epochs = 10,verbose = 0,shuffle=True,validation_split = 0.33,callbacks=[checkpointer])\n"
   ]
  },
  {
   "cell_type": "code",
   "execution_count": 79,
   "metadata": {
    "collapsed": true
   },
   "outputs": [],
   "source": [
    "# Load the weights with the best validation accuracy\n",
    "model.load_weights('model.weights.best.hdf5')"
   ]
  },
  {
   "cell_type": "code",
   "execution_count": 80,
   "metadata": {},
   "outputs": [
    {
     "name": "stdout",
     "output_type": "stream",
     "text": [
      "\n",
      " Test accuracy: 0.9105\n"
     ]
    }
   ],
   "source": [
    "# Evaluate the model on test set\n",
    "score = model.evaluate(x_test, y_test, verbose=0)\n",
    "\n",
    "# Print test accuracy\n",
    "print('\\n', 'Test accuracy:', score[1])"
   ]
  },
  {
   "cell_type": "code",
   "execution_count": null,
   "metadata": {
    "collapsed": true
   },
   "outputs": [],
   "source": []
  }
 ],
 "metadata": {
  "anaconda-cloud": {},
  "kernelspec": {
   "display_name": "Python [conda root]",
   "language": "python",
   "name": "conda-root-py"
  },
  "language_info": {
   "codemirror_mode": {
    "name": "ipython",
    "version": 3
   },
   "file_extension": ".py",
   "mimetype": "text/x-python",
   "name": "python",
   "nbconvert_exporter": "python",
   "pygments_lexer": "ipython3",
   "version": "3.5.2"
  }
 },
 "nbformat": 4,
 "nbformat_minor": 1
}
