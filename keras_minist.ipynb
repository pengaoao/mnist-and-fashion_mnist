{
 "cells": [
  {
   "cell_type": "code",
   "execution_count": 37,
   "metadata": {},
   "outputs": [],
   "source": [
    "from keras.models import Sequential \n",
    "from keras.layers.core import Dense,Dropout,Activation\n",
    "from keras.optimizers import SGD\n",
    "from keras.datasets import mnist\n",
    "import numpy\n",
    "from keras.layers.normalization import  BatchNormalization"
   ]
  },
  {
   "cell_type": "code",
   "execution_count": 45,
   "metadata": {},
   "outputs": [],
   "source": [
    "#选择模型\n",
    "model = Sequential()\n",
    "#构建网络层\n",
    "model.add(Dense(200,input_shape = (784,)))#输入层28*28\n",
    "model.add(Activation('tanh'))\n",
    "model.add(BatchNormalization(momentum=0.9))\n",
    "model.add(Dropout(0.3))\n",
    "\n",
    "model.add(Dense(200))\n",
    "model.add(Activation('tanh'))\n",
    "model.add(BatchNormalization(momentum=0.9))\n",
    "model.add(Dropout(0.3))\n",
    "\n",
    "model.add(Dense(200))\n",
    "model.add(Activation('tanh'))\n",
    "model.add(BatchNormalization(momentum=0.9))\n",
    "model.add(Dropout(0.3))\n",
    "\n",
    "model.add(Dense(10))#输出类别是10个类别0-9\n",
    "model.add(Activation('softmax'))\n",
    "\n",
    "#编译\n",
    "#sgd = SGD(lr=0.01,decay = 1e-6,momentum = 0.9,nesterov = True)\n",
    "model.compile(loss = 'categorical_crossentropy',optimizer = 'adam')#使用交叉熵作为loss函数,使用adam效果比sgd好太多\n",
    "\n",
    "#训练\n",
    "(X_train,y_train),(X_test,y_test) = mnist.load_data()#使用Keras自带的minist\n",
    "\n",
    "X_train = X_train.astype('float32')/255\n",
    "X_test = X_test.astype('float32')/255\n",
    "#由于mist的输入数据维度是(num, 28, 28)，这里需要把后面的维度直接拼起来变成784维 \n",
    "X_train = X_train.reshape(X_train.shape[0],X_train.shape[1]*X_train.shape[2])\n",
    "X_test = X_test.reshape(X_test.shape[0],X_test.shape[1]*X_test.shape[2])\n",
    "\n",
    "Y_train = (numpy.arange(10)==y_train[:,None]).astype(int)##相当于独热编码\n",
    "#print(Y_train)\n",
    "Y_test = (numpy.arange(10)==y_test[:,None]).astype(int)\n",
    "\n"
   ]
  },
  {
   "cell_type": "code",
   "execution_count": 46,
   "metadata": {},
   "outputs": [
    {
     "name": "stdout",
     "output_type": "stream",
     "text": [
      "test_set\n",
      "\n",
      "Test loss is 0.082395\n",
      "\n",
      "The accuracy of the model is 0.981400\n"
     ]
    }
   ],
   "source": [
    "model.fit(X_train,Y_train,batch_size=200,epochs=50,shuffle=True,verbose=0,validation_split = 0.3)\n",
    "model.evaluate(X_test,Y_test,batch_size=200,verbose=0)\n",
    "\n",
    "#输出\n",
    "\n",
    "print(\"test_set\")\n",
    "scores = model.evaluate(X_test,Y_test,batch_size = 200,verbose=0)\n",
    "print(\"\")\n",
    "print(\"Test loss is %f\"%scores)\n",
    "result = model.predict(X_test,batch_size=200,verbose=0)\n",
    "\n",
    "result_max = numpy.argmax(result,axis=1)\n",
    "test_max = numpy.argmax(Y_test,axis=1)\n",
    "result_bool = numpy.equal(result_max, test_max)\n",
    "true_num = numpy.sum(result_bool)\n",
    "print(\"\")\n",
    "print(\"The accuracy of the model is %f\" % (true_num/len(result_bool)))"
   ]
  },
  {
   "cell_type": "code",
   "execution_count": null,
   "metadata": {
    "collapsed": true
   },
   "outputs": [],
   "source": []
  }
 ],
 "metadata": {
  "anaconda-cloud": {},
  "kernelspec": {
   "display_name": "Python [conda root]",
   "language": "python",
   "name": "conda-root-py"
  },
  "language_info": {
   "codemirror_mode": {
    "name": "ipython",
    "version": 3
   },
   "file_extension": ".py",
   "mimetype": "text/x-python",
   "name": "python",
   "nbconvert_exporter": "python",
   "pygments_lexer": "ipython3",
   "version": "3.5.2"
  }
 },
 "nbformat": 4,
 "nbformat_minor": 1
}
